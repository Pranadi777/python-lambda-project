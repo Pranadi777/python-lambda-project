{
 "cells": [
  {
   "cell_type": "code",
   "execution_count": 8,
   "id": "27cb5fc4-b4c6-4f60-bad2-1bec3a119174",
   "metadata": {},
   "outputs": [],
   "source": [
    "import boto3\n",
    "from datetime import datetime"
   ]
  },
  {
   "cell_type": "code",
   "execution_count": 9,
   "id": "83ad3784-73fe-47e0-abd9-930675fb9a8f",
   "metadata": {},
   "outputs": [],
   "source": [
    "today = datetime.today()\n",
    "todays_date = today.strftime(\"%Y%m%d\")"
   ]
  },
  {
   "cell_type": "code",
   "execution_count": 11,
   "id": "881e8713-89fc-43a8-afbf-44d5947258f7",
   "metadata": {
    "scrolled": true
   },
   "outputs": [],
   "source": [
    "#establish client\n",
    "s3_client = boto3.client('s3')"
   ]
  },
  {
   "cell_type": "code",
   "execution_count": 12,
   "id": "c1f0e49f-4d62-4a0f-adee-07926be8959d",
   "metadata": {},
   "outputs": [],
   "source": [
    "#get the bucket and list it's objects\n",
    "bucket_name = \"rpranadi-organize-s3-objects\"\n",
    "list_objects_response = s3_client.list_objects_v2(Bucket=bucket_name)"
   ]
  },
  {
   "cell_type": "code",
   "execution_count": null,
   "id": "94d7e1ec-60c5-435e-8205-d800612a2467",
   "metadata": {},
   "outputs": [],
   "source": []
  },
  {
   "cell_type": "code",
   "execution_count": 16,
   "id": "d3776cb2-4617-45ca-846a-c6095b0175f5",
   "metadata": {},
   "outputs": [],
   "source": [
    "#focus in on the contents (i.e. the files of the bucket)\n",
    "get_contents = list_objects_response.get('Contents')"
   ]
  },
  {
   "cell_type": "code",
   "execution_count": null,
   "id": "33ae6eb4-36e4-44b1-bcfc-a1f9c6ed83fc",
   "metadata": {},
   "outputs": [],
   "source": []
  },
  {
   "cell_type": "code",
   "execution_count": 18,
   "id": "68bf225e-d8a4-41f1-a534-5d2ee7dae583",
   "metadata": {},
   "outputs": [],
   "source": [
    "#get the file names of the objects\n",
    "all_objs = []\n",
    "for item in get_contents:\n",
    "    all_objs.append(item.get('Key'))"
   ]
  },
  {
   "cell_type": "code",
   "execution_count": null,
   "id": "f5932e7a-8a8d-4aa3-b6b2-24c6d9fc94ab",
   "metadata": {},
   "outputs": [],
   "source": []
  },
  {
   "cell_type": "code",
   "execution_count": 22,
   "id": "181a1e48-2467-439a-8412-cb166b26ba1c",
   "metadata": {},
   "outputs": [],
   "source": [
    "#set the directory name\n",
    "directory_name = todays_date+\"/\""
   ]
  },
  {
   "cell_type": "code",
   "execution_count": 24,
   "id": "6119896c-f896-4089-b0e3-a2fa235c8428",
   "metadata": {},
   "outputs": [],
   "source": [
    "#create the directory if it is not there for 'today'\n",
    "if directory_name not in all_objs:\n",
    "    s3_client.put_object(Bucket=bucket_name, Key=(directory_name))"
   ]
  },
  {
   "cell_type": "code",
   "execution_count": 26,
   "id": "6e6d545c-321f-48a2-b7b3-e06132924f1c",
   "metadata": {},
   "outputs": [],
   "source": [
    "#For each object, copy it to the 'todays directory' if it has the same date creation (ignore directories that were cerated that day)\n",
    "for item in get_contents:\n",
    "    #get each obj creation date\n",
    "    obj_creation_date = item.get(\"LastModified\").strftime(\"%Y%m%d\")+\"/\"\n",
    "    #get each obj name\n",
    "    obj_name = item.get(\"Key\")\n",
    "\n",
    "    #checks if the object was created today, and that it is not a directory\n",
    "    if obj_creation_date == directory_name and \"/\" not in obj_name:\n",
    "        #if so, copy object to the directory of today\n",
    "        s3_client.copy_object(Bucket=bucket_name, CopySource = bucket_name + \"/\" + obj_name, Key = directory_name+obj_name)\n",
    "        #delete it from the main folder\n",
    "        s3_client.delete_object(Bucket=bucket_name, Key=obj_name)"
   ]
  },
  {
   "cell_type": "code",
   "execution_count": null,
   "id": "476d9ed2-0473-451c-9eea-dfdd1d27c544",
   "metadata": {},
   "outputs": [],
   "source": []
  }
 ],
 "metadata": {
  "kernelspec": {
   "display_name": "Python 3 (ipykernel)",
   "language": "python",
   "name": "python3"
  },
  "language_info": {
   "codemirror_mode": {
    "name": "ipython",
    "version": 3
   },
   "file_extension": ".py",
   "mimetype": "text/x-python",
   "name": "python",
   "nbconvert_exporter": "python",
   "pygments_lexer": "ipython3",
   "version": "3.11.5"
  }
 },
 "nbformat": 4,
 "nbformat_minor": 5
}
